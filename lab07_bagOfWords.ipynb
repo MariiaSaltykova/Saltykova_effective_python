{
 "cells": [
  {
   "cell_type": "code",
   "execution_count": 1,
   "metadata": {},
   "outputs": [
    {
     "name": "stdout",
     "output_type": "stream",
     "text": [
      "Count of word \"hamlet\"=  125\n",
      "Word is: 'the', count = 1351\n",
      "Word is: 'and', count = 1106\n",
      "Word is: 'to', count = 888\n",
      "Word is: 'of', count = 887\n",
      "Word is: 'you', count = 665\n",
      "Word is: 'a', count = 646\n",
      "Word is: 'i', count = 631\n",
      "Word is: 'my', count = 520\n",
      "Word is: 'in', count = 520\n",
      "Word is: 'it', count = 447\n"
     ]
    }
   ],
   "source": [
    "from io import TextIOWrapper\n",
    "from collections import defaultdict\n",
    "import re\n",
    "import operator\n",
    "import json\n",
    "\n",
    "class BagOfWords:\n",
    "        def __init__(self, string):\n",
    "                self.id = -1\n",
    "                self.dictionary = defaultdict(int)\n",
    "                if(isinstance(string, TextIOWrapper)):\n",
    "                        text = string.read()\n",
    "                        words = re.findall(\"\\w+\", text)\n",
    "                        words = map(lambda w: w.lower(), words)\n",
    "                        for word in words:\n",
    "                                self.dictionary[word]+=1\n",
    "\n",
    "                else:\n",
    "                        words = re.findall(\"\\w+\", string)\n",
    "                        words = map(lambda w: w.lower(), words)\n",
    "                        for word in words:\n",
    "                                self.dictionary[word]+=1\n",
    "        def __str__(self):\n",
    "                string = ''\n",
    "                for key in self.dictionary.keys():\n",
    "                        string += f'{key} : {self.dictionary[key]}, '\n",
    "                return string[:-2]\n",
    "        \n",
    "        def __iter__(self):\n",
    "                return self\n",
    "\n",
    "        def __next__(self):\n",
    "                self.id += 1\n",
    "                if(self.id >= len(self.dictionary.keys())): raise StopIteration\n",
    "                else : return list(self.dictionary.keys())[self.id]\n",
    "\n",
    "        def __add__(self, bag):\n",
    "                for k in self.dictionary.keys():\n",
    "                        bag.dictionary[k] += self.dictionary[k]\n",
    "                return bag\n",
    "        def __getitem__(self, key):\n",
    "                return self.dictionary[key.lower()]\n",
    "        \n",
    "        def __setitem__(self, key, val):\n",
    "                self.dictionary[key.lower()] = val\n",
    "\n",
    "        def save_to_json(self, json_file_name, data):\n",
    "                with open(json_file_name, 'w') as f:\n",
    "                        json.dump(data, f)\n",
    "\n",
    "        def load_from_json(self, file_name):\n",
    "                f = open(file_name)\n",
    "                return json.load(f)\n",
    "                        \n",
    "bag = BagOfWords(open('hamlet.txt', encoding=\"utf8\"))\n",
    "print('Count of word \"hamlet\"= ',bag['Hamlet'])\n",
    "\n",
    "sorted_dictionary = dict(sorted(bag.dictionary.items(), key=operator.itemgetter(1)))\n",
    "\n",
    "index = len(list(sorted_dictionary.keys())) - 1\n",
    "\n",
    "for i in range(10):\n",
    "    key = list(sorted_dictionary.keys())[index]\n",
    "    print (f\"Word is: '{key}', count = {bag.dictionary[key]}\")\n",
    "    index -= 1"
   ]
  }
 ],
 "metadata": {
  "kernelspec": {
   "display_name": "ml",
   "language": "python",
   "name": "python3"
  },
  "language_info": {
   "codemirror_mode": {
    "name": "ipython",
    "version": 3
   },
   "file_extension": ".py",
   "mimetype": "text/x-python",
   "name": "python",
   "nbconvert_exporter": "python",
   "pygments_lexer": "ipython3",
   "version": "3.10.13"
  }
 },
 "nbformat": 4,
 "nbformat_minor": 2
}
