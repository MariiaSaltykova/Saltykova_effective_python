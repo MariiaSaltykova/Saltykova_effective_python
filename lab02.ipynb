{
 "cells": [
  {
   "cell_type": "markdown",
   "metadata": {},
   "source": [
    "## Lab 02"
   ]
  },
  {
   "cell_type": "markdown",
   "metadata": {},
   "source": [
    "### Zadanie 1"
   ]
  },
  {
   "cell_type": "markdown",
   "metadata": {},
   "source": [
    "Dwa napisy są anagramami, jeśli jesteśmy w stanie w taki sposób poprzestawiać litery w jednym napisie, aby uzyskać drugi (nie możemy żadnej litery się pozbyć ani dodać). Przykładowo:\n",
    "\n",
    "  * abcd i dcba są anagramami\n",
    "  * aba i baa są anagramami\n",
    "  * aba i ba nie są anagramami  \n",
    "\n",
    "Zaimplementuj poniższą funkcja tak, aby sprawdzała czy dwa słowa są anagramamy w iterując po każdym słownie maksymalnie raz."
   ]
  },
  {
   "cell_type": "code",
   "execution_count": 68,
   "metadata": {},
   "outputs": [
    {
     "name": "stdout",
     "output_type": "stream",
     "text": [
      "True\n",
      "True\n",
      "True\n",
      "True\n"
     ]
    }
   ],
   "source": [
    "def check_anagram(first, second):\n",
    "    if(sorted(first)== sorted(second)):\n",
    "        return True\n",
    "    else:\n",
    "        return False\n",
    "\n",
    "\n",
    "print(check_anagram(\"abcd\", \"dcba\") == True)\n",
    "print(check_anagram(\"aba\", \"baa\") == True)\n",
    "print(check_anagram(\"aba\", \"ba\") == False)\n",
    "print(check_anagram(\"tom marvolo riddle \", \"i am lord voldemort\") == True)"
   ]
  },
  {
   "cell_type": "markdown",
   "metadata": {},
   "source": [
    "### Zadanie 2"
   ]
  },
  {
   "cell_type": "code",
   "execution_count": 69,
   "metadata": {},
   "outputs": [
    {
     "name": "stdout",
     "output_type": "stream",
     "text": [
      "True\n",
      "True\n"
     ]
    }
   ],
   "source": [
    "def gaderypoluki(text, key):\n",
    "    key = key.lower()\n",
    "    text = text.lower()\n",
    "    str = \"\"\n",
    "    for word in text:\n",
    "        if word in key:\n",
    "            if(key.index(word) % 2 == 0):\n",
    "                str += key[key.index(word)+1]\n",
    "            else:\n",
    "                str += key[key.index(word)-1]\n",
    "        else:\n",
    "            str += word\n",
    "    return str\n",
    "print(gaderypoluki('Ala ma kota', 'GADERYPOLUKI') == 'gug mg iptg')\n",
    "print(gaderypoluki('gug mg iptg', 'GADERYPOLUKI') == 'ala ma kota')"
   ]
  },
  {
   "cell_type": "markdown",
   "metadata": {},
   "source": [
    "### Zadanie 3"
   ]
  },
  {
   "cell_type": "markdown",
   "metadata": {},
   "source": [
    "#### Comprehensions\n",
    "Zapisz każdą z poniższych 4 funkcji w postaci list/dict/set comprehension. Nie należy używać żadnych zmiennych tymczasowych ani dodatkowych linii, każda funkcja ma zostać wyrażona w postaci: <br>\n",
    "```\n",
    "def FUNKCJA(ARGUMENTY):\n",
    "    return COMPREHENSION\n",
    "```"
   ]
  },
  {
   "cell_type": "code",
   "execution_count": 70,
   "metadata": {},
   "outputs": [
    {
     "name": "stdout",
     "output_type": "stream",
     "text": [
      "True\n",
      "True\n",
      "True\n",
      "True\n"
     ]
    }
   ],
   "source": [
    "def even_numbers_from_list(data):\n",
    "    return[i for i in data if i % 2 == 0]\n",
    "    # result = []\n",
    "    # for point in data:\n",
    "    #     if point % 2 == 0:\n",
    "    #         result.append(point)\n",
    "    # return result\n",
    "\n",
    "print(even_numbers_from_list([1, 2, 3, 4]) == [2, 4])\n",
    "print(even_numbers_from_list(range(10)) == list(range(0, 10, 2)))\n",
    "print(even_numbers_from_list(range(1000)) == list(range(0, 1000, 2)))\n",
    "print(even_numbers_from_list([10, 2, 3, 4, 6, -3, -4]) == [10, 2, 4, 6, -4])"
   ]
  },
  {
   "cell_type": "code",
   "execution_count": 71,
   "metadata": {},
   "outputs": [
    {
     "name": "stdout",
     "output_type": "stream",
     "text": [
      "True\n",
      "True\n"
     ]
    }
   ],
   "source": [
    "def words_analyze(words):\n",
    "    return[(words.index(w), w, len(w)) for w in words]\n",
    "    # result = []\n",
    "    # i = 0\n",
    "    # for word in words:\n",
    "    #     result.append((i, word, len(word)))\n",
    "    #     i += 1\n",
    "    # return result\n",
    "\n",
    "print(words_analyze(['tomek', 'jadzia']) == [(0, 'tomek', 5), (1, 'jadzia', 6)])\n",
    "print(words_analyze([]) == [])"
   ]
  },
  {
   "cell_type": "code",
   "execution_count": 72,
   "metadata": {},
   "outputs": [
    {
     "name": "stdout",
     "output_type": "stream",
     "text": [
      "True\n",
      "True\n",
      "True\n"
     ]
    }
   ],
   "source": [
    "def count_words_starting_with_given_letter(text, letter):\n",
    "    text = text.split(' ')\n",
    "    return{word:text.count(word) for word in text if (letter in word and word.index(letter)==0)}\n",
    "    # result = {}\n",
    "    # for word in text.split():\n",
    "    #     if word[0] == letter:\n",
    "    #         if word not in result:\n",
    "    #             result[word] = 1\n",
    "    #         else:\n",
    "    #             result[word] += 1\n",
    "    # return result\n",
    "\n",
    "print(count_words_starting_with_given_letter('ola ma kota o imieniu ola', 'o') == {'ola': 2, 'o': 1})\n",
    "print(count_words_starting_with_given_letter('ola ma kota o imieniu ola', 'k') == {'kota': 1})\n",
    "print(count_words_starting_with_given_letter('ola ma kota o imieniu ola', 'x') == {})"
   ]
  },
  {
   "cell_type": "markdown",
   "metadata": {},
   "source": [
    "### Zadanie 4"
   ]
  },
  {
   "cell_type": "code",
   "execution_count": 73,
   "metadata": {},
   "outputs": [
    {
     "name": "stdout",
     "output_type": "stream",
     "text": [
      "True\n",
      "True\n",
      "True\n"
     ]
    }
   ],
   "source": [
    "def merge_dicts(a, b, f):\n",
    "    keys = set(a.keys()) | set(b.keys())\n",
    "    return {k: f(a.get(k, 0), b.get(k, 0)) for k in keys}\n",
    "\n",
    "def add(a,b):\n",
    "    return a + b\n",
    "\n",
    "print(merge_dicts({'a': 1}, {'b': 1}, add) == {'b': 1, 'a': 1})\n",
    "print(merge_dicts({'a': 1, 'b': 2}, {'b': 1}, add) == {'b': 3, 'a': 1})\n",
    "print(merge_dicts({'a': 1, 'b': 2}, {'b': 1, 'c': 3, 'a': 7}, add) == {'c': 3, 'b': 3, 'a': 8})"
   ]
  },
  {
   "cell_type": "markdown",
   "metadata": {},
   "source": [
    "### Zadanie 5"
   ]
  },
  {
   "cell_type": "markdown",
   "metadata": {},
   "source": [
    "#### _Primes_ ponownie\n",
    "Zaimplementuj funckje z poprzednich ćwiczeń za pomocą _set comperhension_, tak aby cała jej implementacja zmieściła się w jednej linii (jak w powyższych zadaniach)"
   ]
  },
  {
   "cell_type": "code",
   "execution_count": 74,
   "metadata": {},
   "outputs": [
    {
     "name": "stdout",
     "output_type": "stream",
     "text": [
      "True\n",
      "True\n",
      "True\n"
     ]
    }
   ],
   "source": [
    "from math import sqrt\n",
    "\n",
    "def primes(N):\n",
    "    return {n for n in range(2, N+1) if all(n % i != 0 for i in range(2, int(sqrt(n))+1))}  \n",
    "    \n",
    "print(primes(5) == {2, 3, 5})\n",
    "print(primes(10) == {2, 3, 5, 7})\n",
    "print(primes(100) == {2, 3, 5, 7, 11, 13, 17, 19, 23, 29, 31, 37, 41, 43, 47, 53, 59, 61, 67, 71, 73, 79, 83, 89, 97})"
   ]
  },
  {
   "cell_type": "markdown",
   "metadata": {},
   "source": [
    "### Zadanie 6"
   ]
  },
  {
   "cell_type": "markdown",
   "metadata": {},
   "source": [
    "Wykorzystując znieżdzenia generatorów list ([https://www.python.org/dev/peps/pep-0202/](https://www.python.org/dev/peps/pep-0202/))  napisz funkcje, która\n",
    "* wypisze wszystkie pary (x,y) gdzie 0 < x < n oraz 0 < y < n"
   ]
  },
  {
   "cell_type": "code",
   "execution_count": 75,
   "metadata": {},
   "outputs": [],
   "source": [
    "def func1(n):\n",
    "    return [(x,y) for x in range(0,n) for y in range(0,n) if( x < n and y < n)]"
   ]
  },
  {
   "cell_type": "code",
   "execution_count": 76,
   "metadata": {},
   "outputs": [
    {
     "name": "stdout",
     "output_type": "stream",
     "text": [
      "True\n",
      "True\n"
     ]
    }
   ],
   "source": [
    "print(func1(3)==[(0, 0), (0, 1), (0, 2), (1, 0), (1, 1), (1, 2), (2, 0), (2, 1), (2, 2)])\n",
    "print(func1(0)==[])"
   ]
  },
  {
   "cell_type": "markdown",
   "metadata": {},
   "source": [
    "* wypisze tylko takie pary dla których x < y"
   ]
  },
  {
   "cell_type": "code",
   "execution_count": 77,
   "metadata": {},
   "outputs": [],
   "source": [
    "def func2(n):\n",
    "    return [(x,y) for x in range(0,n) for y in range (0,n) if x < y]"
   ]
  },
  {
   "cell_type": "code",
   "execution_count": 78,
   "metadata": {},
   "outputs": [
    {
     "name": "stdout",
     "output_type": "stream",
     "text": [
      "True\n",
      "True\n"
     ]
    }
   ],
   "source": [
    "print(func2(3)==[(0, 1), (0, 2), (1, 2)])\n",
    "print(func2(4)==[(0, 1), (0, 2), (0, 3), (1, 2), (1, 3), (2, 3)])"
   ]
  },
  {
   "cell_type": "markdown",
   "metadata": {},
   "source": [
    "* wypisze tylko takie pary dla których x > y"
   ]
  },
  {
   "cell_type": "code",
   "execution_count": 79,
   "metadata": {},
   "outputs": [],
   "source": [
    "def func3(n):\n",
    "    return [(x,y) for x in range(0,n) for y in range (0,n) if x > y]"
   ]
  },
  {
   "cell_type": "code",
   "execution_count": 80,
   "metadata": {},
   "outputs": [
    {
     "name": "stdout",
     "output_type": "stream",
     "text": [
      "True\n",
      "True\n"
     ]
    }
   ],
   "source": [
    "print(func3(3)==[(1, 0), (2, 0), (2, 1)])\n",
    "print(func3(4)==[(1, 0), (2, 0), (2, 1), (3, 0), (3, 1), (3, 2)])"
   ]
  },
  {
   "cell_type": "markdown",
   "metadata": {},
   "source": [
    "### Zadanie 7"
   ]
  },
  {
   "cell_type": "markdown",
   "metadata": {},
   "source": [
    "Napisz funkcję `powerset`, która zwróci listę wszystkich podzbiorów zadanej listy przekazanej jako argument"
   ]
  },
  {
   "cell_type": "code",
   "execution_count": 81,
   "metadata": {},
   "outputs": [],
   "source": [
    "from itertools import combinations\n",
    "\n",
    "def powerset(x):\n",
    "    if not x:\n",
    "        return [[]]\n",
    "    first_element = x[0]\n",
    "    subsets = powerset(x[1:])\n",
    "\n",
    "    new_subsets = []\n",
    "    [new_subsets.extend([s, [first_element] + s]) for s in subsets]\n",
    "    return new_subsets"
   ]
  },
  {
   "cell_type": "code",
   "execution_count": 82,
   "metadata": {},
   "outputs": [
    {
     "name": "stdout",
     "output_type": "stream",
     "text": [
      "True\n",
      "True\n",
      "True\n"
     ]
    }
   ],
   "source": [
    "print(powerset('abc')==[[], ['a'], ['b'], ['a', 'b'], ['c'], ['a', 'c'], ['b', 'c'], ['a', 'b', 'c']])\n",
    "print(powerset([1, 2, 3])==[[], [1], [2], [1, 2], [3], [1, 3], [2, 3], [1, 2, 3]])\n",
    "print(powerset(['abc', 5, 6])==[[], ['abc'], [5], ['abc', 5], [6], ['abc', 6], [5, 6], ['abc', 5, 6]])"
   ]
  },
  {
   "cell_type": "markdown",
   "metadata": {},
   "source": [
    "### Zadanie 8"
   ]
  },
  {
   "cell_type": "markdown",
   "metadata": {},
   "source": [
    "Napisz funkcję primes jeszcze raz, tym razem jednak nie wolno Ci użyć pętli (`for`, `while`, etc.) i operatorów `>=`, `<=`"
   ]
  },
  {
   "cell_type": "code",
   "execution_count": 83,
   "metadata": {},
   "outputs": [
    {
     "name": "stdout",
     "output_type": "stream",
     "text": [
      "True\n",
      "True\n",
      "True\n"
     ]
    }
   ],
   "source": [
    "import numpy\n",
    "class NNN:\n",
    "    def __init__(self, n):\n",
    "        self.N = n\n",
    "NN = NNN(2)\n",
    "\n",
    "def devide(x):\n",
    "    return NN.N%x\n",
    "\n",
    "def fun(n):\n",
    "    arr = range(2,int(sqrt(n))+1)\n",
    "    NN.N = n\n",
    "    result = list(map(devide,arr))\n",
    "    return False if 0 in result else True\n",
    "\n",
    "def primes_extra_b(N):\n",
    "    arr2 = filter(fun, range(2,N+1))\n",
    "    return(set(arr2))\n",
    "\n",
    "print(primes_extra_b(5) == {2, 3, 5})\n",
    "print(primes_extra_b(10) == {2, 3, 5, 7})\n",
    "print(primes_extra_b(100) == {2, 3, 5, 7, 11, 13, 17, 19, 23, 29, 31, 37, 41, 43, 47, 53, 59, 61, 67, 71, 73, 79, 83, 89, 97})"
   ]
  }
 ],
 "metadata": {
  "kernelspec": {
   "display_name": "Python 3",
   "language": "python",
   "name": "python3"
  },
  "language_info": {
   "codemirror_mode": {
    "name": "ipython",
    "version": 3
   },
   "file_extension": ".py",
   "mimetype": "text/x-python",
   "name": "python",
   "nbconvert_exporter": "python",
   "pygments_lexer": "ipython3",
   "version": "3.11.4"
  }
 },
 "nbformat": 4,
 "nbformat_minor": 2
}
