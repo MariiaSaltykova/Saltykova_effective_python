{
 "cells": [
  {
   "cell_type": "markdown",
   "metadata": {},
   "source": [
    "# Laboratorium 9"
   ]
  },
  {
   "cell_type": "markdown",
   "metadata": {},
   "source": [
    "### 0. Wczytanie danych\n",
    "Używając metody `load_svmlight_file` z modułu `sklearn` załaduj plik `lab13_files/breast_cancer`, który składa się z 2 elementów: macierzy `X` o wymiarach `683 x 10` oraz wektora `y` o dlugosci `683`. Macierz `X` opisuje badania 683 pacjentow, a wektor `y` ich diagnozy. "
   ]
  },
  {
   "cell_type": "code",
   "execution_count": 1,
   "metadata": {
    "collapsed": true
   },
   "outputs": [
    {
     "name": "stdout",
     "output_type": "stream",
     "text": [
      "[[1.000025e+06 5.000000e+00 1.000000e+00 ... 3.000000e+00 1.000000e+00\n",
      "  1.000000e+00]\n",
      " [1.002945e+06 5.000000e+00 4.000000e+00 ... 3.000000e+00 2.000000e+00\n",
      "  1.000000e+00]\n",
      " [1.015425e+06 3.000000e+00 1.000000e+00 ... 3.000000e+00 1.000000e+00\n",
      "  1.000000e+00]\n",
      " ...\n",
      " [8.888200e+05 5.000000e+00 1.000000e+01 ... 8.000000e+00 1.000000e+01\n",
      "  2.000000e+00]\n",
      " [8.974710e+05 4.000000e+00 8.000000e+00 ... 1.000000e+01 6.000000e+00\n",
      "  1.000000e+00]\n",
      " [8.974710e+05 4.000000e+00 8.000000e+00 ... 1.000000e+01 4.000000e+00\n",
      "  1.000000e+00]]\n",
      "[2. 2. 2. 2. 2. 4. 2. 2. 2. 2. 2. 2. 4. 2. 4. 4. 2. 2. 4. 2. 4. 4. 2. 2.\n",
      " 4. 2. 2. 2. 2. 2. 2. 4. 2. 2. 2. 4. 2. 4. 4. 4. 4. 4. 4. 2. 4. 2. 2. 4.\n",
      " 4. 4. 4. 4. 4. 4. 4. 4. 4. 4. 4. 2. 4. 4. 2. 4. 2. 4. 4. 2. 2. 4. 2. 4.\n",
      " 4. 2. 2. 2. 2. 2. 2. 2. 2. 2. 4. 4. 4. 4. 2. 2. 2. 2. 2. 2. 2. 2. 2. 2.\n",
      " 4. 4. 4. 4. 2. 4. 4. 4. 4. 4. 2. 4. 2. 4. 4. 4. 2. 2. 2. 4. 2. 2. 2. 2.\n",
      " 4. 4. 4. 2. 4. 2. 4. 2. 2. 2. 4. 2. 2. 2. 2. 2. 2. 2. 2. 4. 2. 2. 4. 2.\n",
      " 2. 4. 2. 4. 4. 2. 2. 4. 2. 2. 4. 4. 2. 2. 2. 2. 4. 4. 2. 2. 2. 2. 2. 4.\n",
      " 4. 4. 2. 4. 2. 4. 2. 2. 2. 4. 4. 2. 4. 4. 4. 2. 4. 4. 2. 2. 2. 2. 2. 2.\n",
      " 2. 2. 4. 4. 2. 2. 2. 4. 4. 2. 2. 2. 4. 4. 2. 4. 4. 4. 2. 2. 4. 2. 2. 4.\n",
      " 4. 4. 4. 2. 4. 4. 2. 4. 4. 4. 2. 4. 2. 4. 4. 4. 4. 2. 2. 2. 2. 2. 2. 4.\n",
      " 4. 2. 2. 4. 2. 4. 4. 4. 2. 2. 2. 2. 4. 4. 4. 4. 4. 2. 4. 4. 4. 2. 4. 2.\n",
      " 4. 4. 2. 2. 2. 2. 4. 2. 2. 4. 4. 4. 4. 4. 2. 4. 4. 2. 2. 4. 4. 2. 2. 4.\n",
      " 4. 2. 4. 2. 4. 4. 2. 2. 4. 2. 2. 2. 4. 2. 2. 4. 4. 2. 2. 4. 2. 4. 2. 2.\n",
      " 4. 2. 4. 4. 4. 2. 2. 4. 4. 2. 4. 2. 2. 4. 4. 2. 2. 2. 4. 2. 2. 2. 4. 4.\n",
      " 2. 2. 2. 4. 2. 2. 4. 4. 4. 4. 4. 4. 2. 2. 2. 2. 4. 4. 2. 2. 2. 2. 2. 2.\n",
      " 2. 2. 2. 2. 2. 2. 2. 4. 2. 2. 2. 2. 4. 2. 2. 2. 2. 4. 2. 2. 2. 2. 2. 2.\n",
      " 2. 2. 4. 2. 2. 2. 2. 2. 2. 2. 2. 2. 2. 4. 2. 4. 2. 4. 2. 2. 2. 2. 4. 2.\n",
      " 2. 2. 4. 2. 4. 2. 2. 2. 2. 2. 2. 2. 4. 4. 2. 2. 2. 4. 2. 2. 2. 2. 2. 2.\n",
      " 2. 2. 4. 2. 2. 2. 4. 2. 4. 4. 4. 2. 2. 2. 2. 2. 2. 2. 4. 4. 4. 2. 2. 2.\n",
      " 2. 2. 2. 2. 2. 2. 2. 2. 4. 2. 2. 4. 4. 2. 2. 2. 4. 4. 4. 2. 4. 2. 4. 2.\n",
      " 2. 2. 2. 2. 2. 2. 2. 2. 2. 2. 2. 4. 2. 2. 2. 2. 2. 2. 2. 4. 4. 2. 2. 2.\n",
      " 4. 2. 2. 4. 4. 2. 2. 2. 2. 2. 2. 4. 2. 2. 2. 2. 2. 2. 2. 2. 2. 2. 2. 2.\n",
      " 2. 2. 2. 4. 2. 2. 4. 2. 2. 2. 2. 2. 2. 2. 2. 2. 2. 2. 2. 2. 2. 2. 4. 2.\n",
      " 2. 4. 4. 4. 4. 2. 2. 4. 2. 2. 2. 2. 2. 2. 4. 4. 2. 2. 2. 4. 2. 4. 2. 4.\n",
      " 4. 4. 2. 4. 2. 2. 2. 2. 2. 2. 2. 2. 4. 4. 4. 2. 2. 4. 2. 4. 4. 4. 2. 2.\n",
      " 2. 2. 2. 2. 2. 2. 2. 2. 2. 2. 4. 2. 2. 2. 2. 2. 2. 4. 2. 2. 4. 2. 2. 2.\n",
      " 2. 2. 2. 2. 2. 2. 2. 2. 4. 2. 2. 2. 2. 2. 2. 2. 2. 2. 4. 2. 2. 2. 2. 2.\n",
      " 2. 2. 2. 2. 4. 4. 4. 2. 2. 2. 2. 2. 2. 2. 2. 2. 4. 4. 2. 2. 2. 2. 2. 2.\n",
      " 2. 2. 2. 4. 2. 2. 2. 2. 4. 4. 4.]\n"
     ]
    }
   ],
   "source": [
    "from sklearn.datasets import load_svmlight_file\n",
    "\n",
    "X, y = load_svmlight_file('breast-cancer.txt')\n",
    "X = X.toarray()\n",
    "print(X)\n",
    "print(y)"
   ]
  },
  {
   "cell_type": "markdown",
   "metadata": {},
   "source": [
    "### 1. Preprocessing\n",
    "1.1 Korzystajac z `numpy.where` przenumeruj wektor y, tzn zamień wartości 2 i 4 na -1 i +1. \n",
    "\n",
    "1.2 Przeskaluj macierz X, tak żeby wartości w każdej kolumnie mieściły się w zakresie [0,1], innymi słowy przeskaluj niezależnie każdą kolumne $X_j$ wg wzoru:\n",
    "\n",
    "\n",
    "$$\n",
    "X_j = \\frac{X_j-\\min(X_j)}{\\max(X_j)-\\min(X_j)}\n",
    "$$"
   ]
  },
  {
   "cell_type": "code",
   "execution_count": 2,
   "metadata": {
    "collapsed": true
   },
   "outputs": [
    {
     "name": "stdout",
     "output_type": "stream",
     "text": [
      "y before: \n",
      " [2. 2. 2. 2. 2. 4. 2. 2. 2. 2. 2. 2. 4. 2. 4. 4. 2. 2. 4. 2. 4. 4. 2. 2.\n",
      " 4. 2. 2. 2. 2. 2. 2. 4. 2. 2. 2. 4. 2. 4. 4. 4. 4. 4. 4. 2. 4. 2. 2. 4.\n",
      " 4. 4. 4. 4. 4. 4. 4. 4. 4. 4. 4. 2. 4. 4. 2. 4. 2. 4. 4. 2. 2. 4. 2. 4.\n",
      " 4. 2. 2. 2. 2. 2. 2. 2. 2. 2. 4. 4. 4. 4. 2. 2. 2. 2. 2. 2. 2. 2. 2. 2.\n",
      " 4. 4. 4. 4. 2. 4. 4. 4. 4. 4. 2. 4. 2. 4. 4. 4. 2. 2. 2. 4. 2. 2. 2. 2.\n",
      " 4. 4. 4. 2. 4. 2. 4. 2. 2. 2. 4. 2. 2. 2. 2. 2. 2. 2. 2. 4. 2. 2. 4. 2.\n",
      " 2. 4. 2. 4. 4. 2. 2. 4. 2. 2. 4. 4. 2. 2. 2. 2. 4. 4. 2. 2. 2. 2. 2. 4.\n",
      " 4. 4. 2. 4. 2. 4. 2. 2. 2. 4. 4. 2. 4. 4. 4. 2. 4. 4. 2. 2. 2. 2. 2. 2.\n",
      " 2. 2. 4. 4. 2. 2. 2. 4. 4. 2. 2. 2. 4. 4. 2. 4. 4. 4. 2. 2. 4. 2. 2. 4.\n",
      " 4. 4. 4. 2. 4. 4. 2. 4. 4. 4. 2. 4. 2. 4. 4. 4. 4. 2. 2. 2. 2. 2. 2. 4.\n",
      " 4. 2. 2. 4. 2. 4. 4. 4. 2. 2. 2. 2. 4. 4. 4. 4. 4. 2. 4. 4. 4. 2. 4. 2.\n",
      " 4. 4. 2. 2. 2. 2. 4. 2. 2. 4. 4. 4. 4. 4. 2. 4. 4. 2. 2. 4. 4. 2. 2. 4.\n",
      " 4. 2. 4. 2. 4. 4. 2. 2. 4. 2. 2. 2. 4. 2. 2. 4. 4. 2. 2. 4. 2. 4. 2. 2.\n",
      " 4. 2. 4. 4. 4. 2. 2. 4. 4. 2. 4. 2. 2. 4. 4. 2. 2. 2. 4. 2. 2. 2. 4. 4.\n",
      " 2. 2. 2. 4. 2. 2. 4. 4. 4. 4. 4. 4. 2. 2. 2. 2. 4. 4. 2. 2. 2. 2. 2. 2.\n",
      " 2. 2. 2. 2. 2. 2. 2. 4. 2. 2. 2. 2. 4. 2. 2. 2. 2. 4. 2. 2. 2. 2. 2. 2.\n",
      " 2. 2. 4. 2. 2. 2. 2. 2. 2. 2. 2. 2. 2. 4. 2. 4. 2. 4. 2. 2. 2. 2. 4. 2.\n",
      " 2. 2. 4. 2. 4. 2. 2. 2. 2. 2. 2. 2. 4. 4. 2. 2. 2. 4. 2. 2. 2. 2. 2. 2.\n",
      " 2. 2. 4. 2. 2. 2. 4. 2. 4. 4. 4. 2. 2. 2. 2. 2. 2. 2. 4. 4. 4. 2. 2. 2.\n",
      " 2. 2. 2. 2. 2. 2. 2. 2. 4. 2. 2. 4. 4. 2. 2. 2. 4. 4. 4. 2. 4. 2. 4. 2.\n",
      " 2. 2. 2. 2. 2. 2. 2. 2. 2. 2. 2. 4. 2. 2. 2. 2. 2. 2. 2. 4. 4. 2. 2. 2.\n",
      " 4. 2. 2. 4. 4. 2. 2. 2. 2. 2. 2. 4. 2. 2. 2. 2. 2. 2. 2. 2. 2. 2. 2. 2.\n",
      " 2. 2. 2. 4. 2. 2. 4. 2. 2. 2. 2. 2. 2. 2. 2. 2. 2. 2. 2. 2. 2. 2. 4. 2.\n",
      " 2. 4. 4. 4. 4. 2. 2. 4. 2. 2. 2. 2. 2. 2. 4. 4. 2. 2. 2. 4. 2. 4. 2. 4.\n",
      " 4. 4. 2. 4. 2. 2. 2. 2. 2. 2. 2. 2. 4. 4. 4. 2. 2. 4. 2. 4. 4. 4. 2. 2.\n",
      " 2. 2. 2. 2. 2. 2. 2. 2. 2. 2. 4. 2. 2. 2. 2. 2. 2. 4. 2. 2. 4. 2. 2. 2.\n",
      " 2. 2. 2. 2. 2. 2. 2. 2. 4. 2. 2. 2. 2. 2. 2. 2. 2. 2. 4. 2. 2. 2. 2. 2.\n",
      " 2. 2. 2. 2. 4. 4. 4. 2. 2. 2. 2. 2. 2. 2. 2. 2. 4. 4. 2. 2. 2. 2. 2. 2.\n",
      " 2. 2. 2. 4. 2. 2. 2. 2. 4. 4. 4.]\n",
      "y after: \n",
      " [-1. -1. -1. -1. -1.  1. -1. -1. -1. -1. -1. -1.  1. -1.  1.  1. -1. -1.\n",
      "  1. -1.  1.  1. -1. -1.  1. -1. -1. -1. -1. -1. -1.  1. -1. -1. -1.  1.\n",
      " -1.  1.  1.  1.  1.  1.  1. -1.  1. -1. -1.  1.  1.  1.  1.  1.  1.  1.\n",
      "  1.  1.  1.  1.  1. -1.  1.  1. -1.  1. -1.  1.  1. -1. -1.  1. -1.  1.\n",
      "  1. -1. -1. -1. -1. -1. -1. -1. -1. -1.  1.  1.  1.  1. -1. -1. -1. -1.\n",
      " -1. -1. -1. -1. -1. -1.  1.  1.  1.  1. -1.  1.  1.  1.  1.  1. -1.  1.\n",
      " -1.  1.  1.  1. -1. -1. -1.  1. -1. -1. -1. -1.  1.  1.  1. -1.  1. -1.\n",
      "  1. -1. -1. -1.  1. -1. -1. -1. -1. -1. -1. -1. -1.  1. -1. -1.  1. -1.\n",
      " -1.  1. -1.  1.  1. -1. -1.  1. -1. -1.  1.  1. -1. -1. -1. -1.  1.  1.\n",
      " -1. -1. -1. -1. -1.  1.  1.  1. -1.  1. -1.  1. -1. -1. -1.  1.  1. -1.\n",
      "  1.  1.  1. -1.  1.  1. -1. -1. -1. -1. -1. -1. -1. -1.  1.  1. -1. -1.\n",
      " -1.  1.  1. -1. -1. -1.  1.  1. -1.  1.  1.  1. -1. -1.  1. -1. -1.  1.\n",
      "  1.  1.  1. -1.  1.  1. -1.  1.  1.  1. -1.  1. -1.  1.  1.  1.  1. -1.\n",
      " -1. -1. -1. -1. -1.  1.  1. -1. -1.  1. -1.  1.  1.  1. -1. -1. -1. -1.\n",
      "  1.  1.  1.  1.  1. -1.  1.  1.  1. -1.  1. -1.  1.  1. -1. -1. -1. -1.\n",
      "  1. -1. -1.  1.  1.  1.  1.  1. -1.  1.  1. -1. -1.  1.  1. -1. -1.  1.\n",
      "  1. -1.  1. -1.  1.  1. -1. -1.  1. -1. -1. -1.  1. -1. -1.  1.  1. -1.\n",
      " -1.  1. -1.  1. -1. -1.  1. -1.  1.  1.  1. -1. -1.  1.  1. -1.  1. -1.\n",
      " -1.  1.  1. -1. -1. -1.  1. -1. -1. -1.  1.  1. -1. -1. -1.  1. -1. -1.\n",
      "  1.  1.  1.  1.  1.  1. -1. -1. -1. -1.  1.  1. -1. -1. -1. -1. -1. -1.\n",
      " -1. -1. -1. -1. -1. -1. -1.  1. -1. -1. -1. -1.  1. -1. -1. -1. -1.  1.\n",
      " -1. -1. -1. -1. -1. -1. -1. -1.  1. -1. -1. -1. -1. -1. -1. -1. -1. -1.\n",
      " -1.  1. -1.  1. -1.  1. -1. -1. -1. -1.  1. -1. -1. -1.  1. -1.  1. -1.\n",
      " -1. -1. -1. -1. -1. -1.  1.  1. -1. -1. -1.  1. -1. -1. -1. -1. -1. -1.\n",
      " -1. -1.  1. -1. -1. -1.  1. -1.  1.  1.  1. -1. -1. -1. -1. -1. -1. -1.\n",
      "  1.  1.  1. -1. -1. -1. -1. -1. -1. -1. -1. -1. -1. -1.  1. -1. -1.  1.\n",
      "  1. -1. -1. -1.  1.  1.  1. -1.  1. -1.  1. -1. -1. -1. -1. -1. -1. -1.\n",
      " -1. -1. -1. -1. -1.  1. -1. -1. -1. -1. -1. -1. -1.  1.  1. -1. -1. -1.\n",
      "  1. -1. -1.  1.  1. -1. -1. -1. -1. -1. -1.  1. -1. -1. -1. -1. -1. -1.\n",
      " -1. -1. -1. -1. -1. -1. -1. -1. -1.  1. -1. -1.  1. -1. -1. -1. -1. -1.\n",
      " -1. -1. -1. -1. -1. -1. -1. -1. -1. -1.  1. -1. -1.  1.  1.  1.  1. -1.\n",
      " -1.  1. -1. -1. -1. -1. -1. -1.  1.  1. -1. -1. -1.  1. -1.  1. -1.  1.\n",
      "  1.  1. -1.  1. -1. -1. -1. -1. -1. -1. -1. -1.  1.  1.  1. -1. -1.  1.\n",
      " -1.  1.  1.  1. -1. -1. -1. -1. -1. -1. -1. -1. -1. -1. -1. -1.  1. -1.\n",
      " -1. -1. -1. -1. -1.  1. -1. -1.  1. -1. -1. -1. -1. -1. -1. -1. -1. -1.\n",
      " -1. -1.  1. -1. -1. -1. -1. -1. -1. -1. -1. -1.  1. -1. -1. -1. -1. -1.\n",
      " -1. -1. -1. -1.  1.  1.  1. -1. -1. -1. -1. -1. -1. -1. -1. -1.  1.  1.\n",
      " -1. -1. -1. -1. -1. -1. -1. -1. -1.  1. -1. -1. -1. -1.  1.  1.  1.]\n",
      "X before: \n",
      " [[1.000025e+06 5.000000e+00 1.000000e+00 ... 3.000000e+00 1.000000e+00\n",
      "  1.000000e+00]\n",
      " [1.002945e+06 5.000000e+00 4.000000e+00 ... 3.000000e+00 2.000000e+00\n",
      "  1.000000e+00]\n",
      " [1.015425e+06 3.000000e+00 1.000000e+00 ... 3.000000e+00 1.000000e+00\n",
      "  1.000000e+00]\n",
      " ...\n",
      " [8.888200e+05 5.000000e+00 1.000000e+01 ... 8.000000e+00 1.000000e+01\n",
      "  2.000000e+00]\n",
      " [8.974710e+05 4.000000e+00 8.000000e+00 ... 1.000000e+01 6.000000e+00\n",
      "  1.000000e+00]\n",
      " [8.974710e+05 4.000000e+00 8.000000e+00 ... 1.000000e+01 4.000000e+00\n",
      "  1.000000e+00]]\n",
      "X after: \n",
      " [[0.06994635 0.44444444 0.         ... 0.22222222 0.         0.        ]\n",
      " [0.07016441 0.44444444 0.33333333 ... 0.22222222 0.11111111 0.        ]\n",
      " [0.07109638 0.22222222 0.         ... 0.22222222 0.         0.        ]\n",
      " ...\n",
      " [0.06164188 0.44444444 1.         ... 0.77777778 1.         0.11111111]\n",
      " [0.06228791 0.33333333 0.77777778 ... 1.         0.55555556 0.        ]\n",
      " [0.06228791 0.33333333 0.77777778 ... 1.         0.33333333 0.        ]]\n"
     ]
    }
   ],
   "source": [
    "#1.1\n",
    "import numpy as np\n",
    "print('y before: \\n', y)\n",
    "y = np.where(y!=2, y, -1)\n",
    "y = np.where(y!=4, y, 1)\n",
    "print('y after: \\n', y)\n",
    "\n",
    "#1.2\n",
    "X = np.array(X)\n",
    "print('X before: \\n', X)\n",
    "X = (X - np.min(X, axis=0)) / (np.max(X, axis=0) - np.min(X, axis=0))\n",
    "print('X after: \\n', X)"
   ]
  },
  {
   "cell_type": "markdown",
   "metadata": {},
   "source": [
    "### 2. Wizualizacja\n",
    "Narysuj dane używajac biblioteki `matplotlib`. Użyj wymiarów 1 i 2 z macierzy X, a jako kolory użyj wektora y. Pobaw sie parametrami \"s\" oraz \"alpha\" metody `plt.scatter` żeby uzyskać czytelną wizualizacje, np. taką jak poniżej."
   ]
  },
  {
   "cell_type": "markdown",
   "metadata": {},
   "source": [
    "<img src=\"lab13_files/d.png\">"
   ]
  },
  {
   "cell_type": "code",
   "execution_count": 3,
   "metadata": {
    "collapsed": true
   },
   "outputs": [
    {
     "data": {
      "image/png": "[encoded data removed]",
      "text/plain": [
       "<Figure size 640x480 with 1 Axes>"
      ]
     },
     "metadata": {},
     "output_type": "display_data"
    }
   ],
   "source": [
    "%matplotlib inline\n",
    "import matplotlib.pyplot as plt\n",
    "colors = np.where(y == -1, 'blue', 'red')\n",
    "sizes = np.where(y == -1, 20, 40)\n",
    "alpha_value = 0.3\n",
    "\n",
    "plt.scatter(X[:, 0], X[:, 1], c=colors, s=sizes, alpha=alpha_value)\n",
    "\n",
    "plt.xlabel('Wymiar 1')\n",
    "plt.ylabel('Wymiar 2')\n",
    "plt.legend(['-1', '+1'])\n",
    "\n",
    "plt.show()"
   ]
  },
  {
   "cell_type": "markdown",
   "metadata": {},
   "source": [
    "### 3. Regresja \n",
    "\n",
    "Przeprowadź regresje liniową wg wzoru:\n",
    "$$\n",
    "\\beta = (X^TX)^{-1}X^Ty\n",
    "$$"
   ]
  },
  {
   "cell_type": "code",
   "execution_count": 4,
   "metadata": {
    "collapsed": true
   },
   "outputs": [
    {
     "name": "stdout",
     "output_type": "stream",
     "text": [
      "[-6.99534089 -0.18099245  0.98590886  0.42019705  0.10457698 -0.59830206\n",
      "  0.85739125 -0.31840576  0.47729336  0.16637872]\n"
     ]
    }
   ],
   "source": [
    "def regresja_lin(arr, y):\n",
    "    return np.linalg.inv(arr.transpose() @ arr) @ arr.transpose() @ y\n",
    "print(regresja_lin(X, y))"
   ]
  },
  {
   "cell_type": "markdown",
   "metadata": {},
   "source": [
    "### 4. Wizualizacja Regresji\n",
    "\n",
    "Zwizualizuj dane po zrzutowaniu na $\\beta$ używajac metody `plt.hist`, tzn. narysuj histogramy $\\beta X_+$ oraz\n",
    "$\\beta X_-$ gdzie $X_+$ to wiersze $X$ dla których $y=+1$ i analogicznie $X_-$. Postaraj się wygenerować czytelny wykres podobny do tego poniżej."
   ]
  },
  {
   "cell_type": "markdown",
   "metadata": {},
   "source": [
    "<img src=\"lab13_files/lr1.png\">"
   ]
  },
  {
   "cell_type": "code",
   "execution_count": 5,
   "metadata": {
    "collapsed": true
   },
   "outputs": [
    {
     "data": {
      "image/png": "[encoded data removed]",
      "text/plain": [
       "<Figure size 640x480 with 1 Axes>"
      ]
     },
     "metadata": {},
     "output_type": "display_data"
    }
   ],
   "source": [
    "\n",
    "# X_plus = []\n",
    "# X_minus = []\n",
    "# for i in range(len(y)):\n",
    "#     if(y[i]==1):\n",
    "#         X_plus.append(X[i])\n",
    "#     else:\n",
    "#         X_minus.append(X[i])\n",
    "# regr_lin_X_plus = regresja_lin(np.array(X_plus), np.full((len(X_plus), 10), 1))\n",
    "# regr_lin_X_minus = regresja_lin(np.array(X_minus),np.full((len(X_minus), 10), -1))\n",
    "# print(regr_lin_X_minus)\n",
    "# print(regr_lin_X_plus)]\n",
    "\n",
    "X_extended = np.column_stack([np.ones(X.shape[0]), X])\n",
    "b = np.linalg.inv(X_extended.T @ X_extended) @ X_extended.T @ y\n",
    "y_pred = X_extended @ b\n",
    "\n",
    "X_plus = X[y == 1]\n",
    "X_minus = X[y == -1]\n",
    "\n",
    "bX_plus = X_plus @ b[1:]  \n",
    "bX_minus = X_minus @ b[1:] \n",
    "\n",
    "plt.hist(bX_plus, alpha=0.5, label='X_plus', bins=20)\n",
    "plt.hist(bX_minus, alpha=0.5, label='X_minus', bins=20)\n",
    "\n",
    "plt.legend()\n",
    "plt.xlabel('bX')\n",
    "plt.ylabel('Count')\n",
    " \n",
    "plt.show()"
   ]
  },
  {
   "cell_type": "markdown",
   "metadata": {},
   "source": [
    "### 5. Klasyfikacja\n",
    "\n",
    "Przeprowadź \"klasyfikacje\" naszych pacjentów, ci, którzy zostali zrzutowani na wartość ujemną dostają etykiete $-1$, a ci którzy na wartość dodatnia - etykiete $+1$"
   ]
  },
  {
   "cell_type": "code",
   "execution_count": 7,
   "metadata": {
    "collapsed": true
   },
   "outputs": [
    {
     "name": "stdout",
     "output_type": "stream",
     "text": [
      "[-1  1 -1  1 -1  1 -1 -1 -1 -1 -1 -1 -1 -1  1 -1 -1 -1  1 -1  1  1 -1 -1\n",
      "  1 -1 -1 -1 -1 -1 -1  1 -1 -1 -1  1 -1  1  1  1  1 -1  1 -1  1 -1 -1  1\n",
      " -1 -1  1  1  1  1  1 -1  1 -1  1 -1  1 -1 -1 -1 -1  1  1 -1 -1  1 -1  1\n",
      "  1 -1 -1 -1 -1 -1 -1 -1 -1 -1  1  1  1  1 -1 -1 -1 -1 -1 -1 -1 -1 -1 -1\n",
      "  1  1  1 -1 -1 -1  1 -1  1  1 -1  1 -1  1  1  1 -1 -1 -1  1 -1 -1 -1 -1\n",
      "  1  1  1 -1  1 -1  1 -1 -1 -1  1 -1 -1 -1 -1 -1 -1 -1 -1  1 -1 -1  1 -1\n",
      " -1  1 -1  1  1 -1 -1  1 -1 -1  1  1 -1 -1 -1 -1  1  1 -1 -1 -1 -1 -1  1\n",
      "  1  1 -1  1 -1  1 -1 -1 -1  1  1 -1  1  1  1 -1  1  1 -1 -1 -1 -1  1 -1\n",
      " -1 -1  1  1 -1 -1 -1  1  1 -1 -1 -1  1  1 -1  1  1  1 -1 -1  1 -1 -1  1\n",
      " -1  1  1 -1  1  1 -1  1  1  1 -1  1 -1  1  1  1  1 -1 -1 -1 -1 -1 -1  1\n",
      "  1 -1 -1  1  1  1  1  1 -1 -1 -1  1  1  1  1  1  1 -1  1  1  1 -1  1 -1\n",
      "  1 -1 -1 -1 -1 -1  1 -1 -1  1  1  1  1  1 -1  1  1 -1 -1  1  1  1 -1  1\n",
      "  1 -1  1 -1  1  1 -1 -1  1 -1 -1 -1  1 -1 -1  1  1 -1  1  1 -1  1 -1 -1\n",
      "  1 -1  1  1  1 -1 -1  1  1 -1  1 -1 -1  1  1 -1 -1 -1  1 -1 -1 -1 -1  1\n",
      " -1 -1 -1  1 -1 -1 -1  1  1  1  1  1 -1 -1 -1 -1  1  1 -1 -1 -1 -1 -1 -1\n",
      " -1 -1 -1 -1 -1 -1 -1  1 -1 -1 -1 -1  1 -1 -1 -1 -1  1 -1 -1 -1 -1 -1 -1\n",
      " -1 -1  1 -1 -1 -1 -1 -1 -1 -1 -1 -1 -1  1 -1  1 -1  1 -1 -1 -1 -1  1 -1\n",
      " -1 -1  1 -1  1 -1 -1 -1 -1 -1 -1  1  1  1 -1 -1 -1  1 -1 -1 -1 -1 -1 -1\n",
      " -1 -1  1 -1 -1 -1  1 -1 -1  1  1 -1 -1 -1 -1 -1 -1 -1  1  1  1 -1 -1 -1\n",
      " -1 -1 -1 -1 -1 -1 -1 -1  1 -1 -1  1  1 -1 -1 -1  1 -1 -1 -1  1 -1  1 -1\n",
      " -1 -1 -1 -1 -1 -1 -1 -1 -1 -1 -1  1 -1 -1 -1 -1 -1 -1 -1  1  1 -1 -1 -1\n",
      "  1 -1 -1  1  1 -1 -1 -1 -1 -1 -1  1 -1 -1 -1 -1 -1 -1 -1 -1 -1 -1 -1 -1\n",
      " -1 -1 -1  1 -1 -1  1 -1 -1 -1 -1 -1 -1 -1 -1 -1 -1 -1 -1 -1 -1 -1  1 -1\n",
      " -1  1  1  1  1 -1 -1  1 -1 -1 -1 -1 -1 -1  1  1 -1 -1 -1  1 -1  1 -1  1\n",
      "  1  1 -1  1 -1 -1 -1 -1 -1 -1 -1 -1  1  1  1 -1 -1  1 -1  1  1  1 -1 -1\n",
      " -1 -1 -1 -1 -1 -1 -1 -1 -1 -1  1 -1 -1 -1 -1 -1 -1  1 -1 -1  1 -1 -1 -1\n",
      " -1 -1 -1 -1 -1 -1 -1 -1  1 -1 -1 -1 -1 -1 -1 -1 -1 -1  1 -1 -1 -1 -1 -1\n",
      " -1 -1 -1 -1  1  1  1 -1 -1 -1 -1 -1 -1 -1 -1 -1  1  1 -1 -1 -1 -1 -1 -1\n",
      " -1 -1 -1  1 -1 -1 -1 -1  1  1  1]\n"
     ]
    }
   ],
   "source": [
    "y_pred = X_extended @ b\n",
    "y_pred_class = np.where(y_pred > 0, 1, -1)\n",
    "print(y_pred_class)"
   ]
  },
  {
   "cell_type": "markdown",
   "metadata": {},
   "source": [
    "### 6. Ewaluacja\n",
    "\n",
    "Policz jak dokładny jest ten model, tzn. jak duży jest zbiór\n",
    "$ \\{ (x_i,y_i) : \\mathrm{sign}(\\beta x_i) = y_i \\} $\n",
    "w stosunku do rozmiaru całego $y$\n",
    "\n",
    "Powinno udać się uzyskać wynik na poziomie 93-94%"
   ]
  },
  {
   "cell_type": "code",
   "execution_count": 8,
   "metadata": {
    "collapsed": true
   },
   "outputs": [
    {
     "name": "stdout",
     "output_type": "stream",
     "text": [
      "96.04685212298682 %\n"
     ]
    }
   ],
   "source": [
    "dokladnosc = np.sum(y_pred_class == y) / len(y)\n",
    "print(dokladnosc * 100, \"%\")"
   ]
  },
  {
   "cell_type": "markdown",
   "metadata": {},
   "source": [
    "### 7. Regularyzacja \n",
    "Dodaj parametr `C` do regresji liniowej\n",
    "$$\n",
    "\\beta = (X^TX + \\tfrac{1}{C}I)^{-1}X^Ty\n",
    "$$\n",
    "\n",
    "gdzie $I$ - macierz identyczności. \n",
    "\n",
    "Dla jakiej wartości `C` wynik jest najlepszy? Jaki wynik udało Ci sie uzyskać?"
   ]
  },
  {
   "cell_type": "code",
   "execution_count": 10,
   "metadata": {
    "collapsed": true
   },
   "outputs": [
    {
     "name": "stdout",
     "output_type": "stream",
     "text": [
      "97.36456808199122 %\n"
     ]
    }
   ],
   "source": [
    "C=0.000008\n",
    "b_C = np.linalg.inv(X_extended.T @ X_extended + 1/C*np.identity(11)) @ X_extended.T @ y\n",
    "\n",
    "y_pred = X_extended @ b_C\n",
    "y_pred_class = np.where(y_pred > 0, 1, -1)\n",
    "dokladnosc = np.sum(y_pred_class == y) / len(y)\n",
    "print(dokladnosc * 100, \"%\")"
   ]
  },
  {
   "cell_type": "markdown",
   "metadata": {},
   "source": [
    "### 8. Gratulacje\n",
    "Właśnie stworzyłeś/-aś swój pierwszy klasyfikator (statystyczny model predykcji). \n",
    "\n",
    "Spróbuj zastosować go do innych danych."
   ]
  },
  {
   "cell_type": "markdown",
   "metadata": {},
   "source": [
    "### Zadanie dodatkowe\n",
    "\n",
    "Zaimplementuj powyższą metode jako klase `LRClassifier` wyposażoną w następujące metody:\n",
    "\n",
    "* konstruktor przyjmujący dwa parametry: \n",
    "    * `C` - stała z równania \n",
    "    * `scale` - zmienna boolowska (domyslnie `True`) która określa czy macierz `X` ma byc automatycznie znormalizowana (przeskalowana do `[0,1]`)\n",
    "* `.fit(X, y)` która spowoduje obliczenie $\\beta$, dla `X` - dowolnej macierzy, `y` - wektora etykiet skladajacego sie z dwóch unikalnych wartosci (mogą to byc np. 2 różne stringi)\n",
    "* `.predict(X)`, która zwróci wektor zawierajacy na `i`tej pozycji etykiete \"przewidzianą\" przez nasz model (pamiętaj o skalowaniu jesli `scale==True`!)\n",
    "\n",
    "Przykladowe użycie:\n",
    "\n",
    "    clf = LRClassifier(C=100)\n",
    "    Xt = np.array([[1, 0], [1, 1], [1, 2], [1, 3], [1, 4]])\n",
    "    yt = np.array(['x', 'x', 'y', 'y', 'y'])\n",
    "    clf.fit(Xt, yt)\n",
    "    X = np.array([[1, -1], [1, 0.9], [1, 2.1]])\n",
    "    print(clf.predict(X)) # ['x', 'x', 'y']"
   ]
  },
  {
   "cell_type": "code",
   "execution_count": 11,
   "metadata": {},
   "outputs": [
    {
     "name": "stdout",
     "output_type": "stream",
     "text": [
      "[1 0 0]\n"
     ]
    }
   ],
   "source": [
    "import numpy as np\n",
    "\n",
    "class LRClassifier:\n",
    "    def __init__(self, C=1.0, scale=True):\n",
    "        self.C = C\n",
    "        self.scale = scale\n",
    "        self.b = None\n",
    "        self.mean = None\n",
    "        self.std = None\n",
    "\n",
    "    def fit(self, X, y):\n",
    "        if self.scale:\n",
    "            self.mean = np.mean(X, axis=0)\n",
    "            self.std = np.std(X, axis=0)\n",
    "            X_scaled = self._scale(X)\n",
    "        else:\n",
    "            X_scaled = X\n",
    "\n",
    "        X_extended = np.column_stack([np.ones(X_scaled.shape[0]), X_scaled])\n",
    "        self.b = self._linear_regr(X_extended, y)\n",
    "\n",
    "    def predict(self, X):\n",
    "        if self.scale:\n",
    "            X_scaled = self._scale(X)\n",
    "        else:\n",
    "            X_scaled = X\n",
    "\n",
    "        X_extended = np.column_stack([np.ones(X_scaled.shape[0]), X_scaled])\n",
    "        return self._predict(X_extended)\n",
    "\n",
    "    def _scale(self, X):\n",
    "        ind = np.where(self.std == 0)[0]\n",
    "        self.std[ind] = 1.0\n",
    "        return (X - self.mean) / self.std\n",
    "\n",
    "    def _linear_regr(self, X, y):\n",
    "        regularization_term = (1 / self.C) * np.identity(X.shape[1])\n",
    "        return np.linalg.inv(X.T @ X + regularization_term) @ X.T @ y\n",
    "\n",
    "    def _predict(self, X):\n",
    "        y_pred = X @ self.b\n",
    "        return np.where(y_pred >= 0, 0, 1)  \n",
    "   \n",
    "\n",
    "clf = LRClassifier(C=100)\n",
    "Xt = np.array([[1, 0], [1, 1], [1, 2], [1, 3], [1, 4]])\n",
    "yt = np.array([0, 0, 1, 1, 1])  \n",
    "clf.fit(Xt, yt)\n",
    "X = np.array([[1, -1], [1, 0.9], [1, 2.1]])\n",
    "print(clf.predict(X))"
   ]
  }
 ],
 "metadata": {
  "kernelspec": {
   "display_name": "Python 3",
   "language": "python",
   "name": "python3"
  },
  "language_info": {
   "codemirror_mode": {
    "name": "ipython",
    "version": 3
   },
   "file_extension": ".py",
   "mimetype": "text/x-python",
   "name": "python",
   "nbconvert_exporter": "python",
   "pygments_lexer": "ipython3",
   "version": "3.10.13"
  }
 },
 "nbformat": 4,
 "nbformat_minor": 1
}
